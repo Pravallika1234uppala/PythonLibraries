{
  "nbformat": 4,
  "nbformat_minor": 0,
  "metadata": {
    "colab": {
      "provenance": [],
      "authorship_tag": "ABX9TyPEM9zJd1E/eO718sPxEiSx",
      "include_colab_link": true
    },
    "kernelspec": {
      "name": "python3",
      "display_name": "Python 3"
    },
    "language_info": {
      "name": "python"
    }
  },
  "cells": [
    {
      "cell_type": "markdown",
      "metadata": {
        "id": "view-in-github",
        "colab_type": "text"
      },
      "source": [
        "<a href=\"https://colab.research.google.com/github/Pravallika1234uppala/PythonLibraries/blob/main/Numpy.ipynb\" target=\"_parent\"><img src=\"https://colab.research.google.com/assets/colab-badge.svg\" alt=\"Open In Colab\"/></a>"
      ]
    },
    {
      "cell_type": "markdown",
      "source": [
        "## NUMPY"
      ],
      "metadata": {
        "id": "i9NTR0D9031S"
      }
    },
    {
      "cell_type": "markdown",
      "source": [
        "Library used for creating multi dimensional array.\n",
        "Has bindings of C++."
      ],
      "metadata": {
        "id": "labIBmFp0uKX"
      }
    },
    {
      "cell_type": "code",
      "execution_count": 1,
      "metadata": {
        "id": "cNXi9u_20l3r"
      },
      "outputs": [],
      "source": [
        "import numpy as np"
      ]
    },
    {
      "cell_type": "code",
      "source": [
        "#list:\n",
        "my_list = [1, 2, 3, 4, 5, 6, 7, 8]\n",
        "#converting list to array:\n",
        "my_arr = np.array(my_list) #1-D array"
      ],
      "metadata": {
        "id": "tgGtcrGu1A_Y"
      },
      "execution_count": 9,
      "outputs": []
    },
    {
      "cell_type": "code",
      "source": [
        "my_arr"
      ],
      "metadata": {
        "colab": {
          "base_uri": "https://localhost:8080/"
        },
        "id": "lQtEZbm82e_g",
        "outputId": "b2747995-d627-4646-b75c-478522e548f6"
      },
      "execution_count": 10,
      "outputs": [
        {
          "output_type": "execute_result",
          "data": {
            "text/plain": [
              "array([1, 2, 3, 4, 5, 6, 7, 8])"
            ]
          },
          "metadata": {},
          "execution_count": 10
        }
      ]
    },
    {
      "cell_type": "code",
      "source": [
        "#type of array:\n",
        "type(my_arr)"
      ],
      "metadata": {
        "colab": {
          "base_uri": "https://localhost:8080/"
        },
        "id": "OqPhNyRv2gIn",
        "outputId": "3d4e22b0-3c37-4365-fc70-b7d6765b4952"
      },
      "execution_count": 11,
      "outputs": [
        {
          "output_type": "execute_result",
          "data": {
            "text/plain": [
              "numpy.ndarray"
            ]
          },
          "metadata": {},
          "execution_count": 11
        }
      ]
    },
    {
      "cell_type": "code",
      "source": [
        "#shape of array:\n",
        "my_arr.shape"
      ],
      "metadata": {
        "colab": {
          "base_uri": "https://localhost:8080/"
        },
        "id": "frY98Gur2i1M",
        "outputId": "16c8e11c-2f29-40f3-ae72-c479b155299a"
      },
      "execution_count": 12,
      "outputs": [
        {
          "output_type": "execute_result",
          "data": {
            "text/plain": [
              "(8,)"
            ]
          },
          "metadata": {},
          "execution_count": 12
        }
      ]
    },
    {
      "cell_type": "markdown",
      "source": [
        "#### Multidimensional array:"
      ],
      "metadata": {
        "id": "8IIkAsop242d"
      }
    },
    {
      "cell_type": "code",
      "source": [
        "my_list1 = [1, 2, 3, 4, 5, 6, 7, 8]\n",
        "my_list2 = [6, 5, 2, 3, 1, 9, 0, 8]\n",
        "my_list3 = [7, 7, 5, 7, 6, 15, 7, 16]\n",
        "arr = np.array([my_list1,my_list2, my_list3]) #2-D array\n"
      ],
      "metadata": {
        "id": "yzjKz_My2pVA"
      },
      "execution_count": 18,
      "outputs": []
    },
    {
      "cell_type": "code",
      "source": [
        "arr"
      ],
      "metadata": {
        "colab": {
          "base_uri": "https://localhost:8080/"
        },
        "id": "kjjk2X973Rs2",
        "outputId": "fba12e2b-53ac-4760-91f9-bde5fcacd778"
      },
      "execution_count": 19,
      "outputs": [
        {
          "output_type": "execute_result",
          "data": {
            "text/plain": [
              "array([[ 1,  2,  3,  4,  5,  6,  7,  8],\n",
              "       [ 6,  5,  2,  3,  1,  9,  0,  8],\n",
              "       [ 7,  7,  5,  7,  6, 15,  7, 16]])"
            ]
          },
          "metadata": {},
          "execution_count": 19
        }
      ]
    },
    {
      "cell_type": "code",
      "source": [
        "type(arr)"
      ],
      "metadata": {
        "colab": {
          "base_uri": "https://localhost:8080/"
        },
        "id": "F4vVJVvR3SJZ",
        "outputId": "b8e65b73-67b0-4191-d8eb-e7ff186507da"
      },
      "execution_count": 20,
      "outputs": [
        {
          "output_type": "execute_result",
          "data": {
            "text/plain": [
              "numpy.ndarray"
            ]
          },
          "metadata": {},
          "execution_count": 20
        }
      ]
    },
    {
      "cell_type": "code",
      "source": [
        "arr.shape"
      ],
      "metadata": {
        "colab": {
          "base_uri": "https://localhost:8080/"
        },
        "id": "W7-HFuqV3Uqx",
        "outputId": "53388210-8b2a-4478-e60c-449c6f7f8368"
      },
      "execution_count": 21,
      "outputs": [
        {
          "output_type": "execute_result",
          "data": {
            "text/plain": [
              "(3, 8)"
            ]
          },
          "metadata": {},
          "execution_count": 21
        }
      ]
    },
    {
      "cell_type": "code",
      "source": [
        "# Reshaping Array:\n",
        "arr.reshape(6, 4)"
      ],
      "metadata": {
        "colab": {
          "base_uri": "https://localhost:8080/"
        },
        "id": "KotPgGKG3afb",
        "outputId": "de74d77b-4782-418c-d7a1-cc786d12ced5"
      },
      "execution_count": 23,
      "outputs": [
        {
          "output_type": "execute_result",
          "data": {
            "text/plain": [
              "array([[ 1,  2,  3,  4],\n",
              "       [ 5,  6,  7,  8],\n",
              "       [ 6,  5,  2,  3],\n",
              "       [ 1,  9,  0,  8],\n",
              "       [ 7,  7,  5,  7],\n",
              "       [ 6, 15,  7, 16]])"
            ]
          },
          "metadata": {},
          "execution_count": 23
        }
      ]
    },
    {
      "cell_type": "markdown",
      "source": [
        "#### Retrieving Data - Indexing"
      ],
      "metadata": {
        "id": "tTK265Vd315B"
      }
    },
    {
      "cell_type": "code",
      "source": [
        "arr = np.array([1, 2, 3, 5, 6, 8, 9])"
      ],
      "metadata": {
        "id": "13bSpYt23kuH"
      },
      "execution_count": 24,
      "outputs": []
    },
    {
      "cell_type": "code",
      "source": [
        "arr"
      ],
      "metadata": {
        "colab": {
          "base_uri": "https://localhost:8080/"
        },
        "id": "PuY6361z39Gl",
        "outputId": "99a3bad4-0671-4825-a154-514a55eb3b54"
      },
      "execution_count": 25,
      "outputs": [
        {
          "output_type": "execute_result",
          "data": {
            "text/plain": [
              "array([1, 2, 3, 5, 6, 8, 9])"
            ]
          },
          "metadata": {},
          "execution_count": 25
        }
      ]
    },
    {
      "cell_type": "code",
      "source": [
        "arr[4]"
      ],
      "metadata": {
        "colab": {
          "base_uri": "https://localhost:8080/"
        },
        "id": "KiRkma8z39fF",
        "outputId": "b5740d09-abd3-4250-fc72-aa66ca96717a"
      },
      "execution_count": 26,
      "outputs": [
        {
          "output_type": "execute_result",
          "data": {
            "text/plain": [
              "6"
            ]
          },
          "metadata": {},
          "execution_count": 26
        }
      ]
    },
    {
      "cell_type": "code",
      "source": [
        "#Indexing in 2-D:\n",
        "arr = np.array([my_list1,my_list2, my_list3])"
      ],
      "metadata": {
        "id": "ToPXLD-i3_wZ"
      },
      "execution_count": 27,
      "outputs": []
    },
    {
      "cell_type": "code",
      "source": [
        "arr"
      ],
      "metadata": {
        "colab": {
          "base_uri": "https://localhost:8080/"
        },
        "id": "c1y_FERT4GdC",
        "outputId": "52bb3bcd-5f70-4f48-d24d-8924fafb1def"
      },
      "execution_count": 28,
      "outputs": [
        {
          "output_type": "execute_result",
          "data": {
            "text/plain": [
              "array([[ 1,  2,  3,  4,  5,  6,  7,  8],\n",
              "       [ 6,  5,  2,  3,  1,  9,  0,  8],\n",
              "       [ 7,  7,  5,  7,  6, 15,  7, 16]])"
            ]
          },
          "metadata": {},
          "execution_count": 28
        }
      ]
    },
    {
      "cell_type": "code",
      "source": [
        "arr[:,:] #all elements"
      ],
      "metadata": {
        "colab": {
          "base_uri": "https://localhost:8080/"
        },
        "id": "QUnpcknA4Gyo",
        "outputId": "89a91a69-9293-42cc-fd7c-583e0f9eb633"
      },
      "execution_count": 29,
      "outputs": [
        {
          "output_type": "execute_result",
          "data": {
            "text/plain": [
              "array([[ 1,  2,  3,  4,  5,  6,  7,  8],\n",
              "       [ 6,  5,  2,  3,  1,  9,  0,  8],\n",
              "       [ 7,  7,  5,  7,  6, 15,  7, 16]])"
            ]
          },
          "metadata": {},
          "execution_count": 29
        }
      ]
    },
    {
      "cell_type": "code",
      "source": [
        "arr[0:2,]"
      ],
      "metadata": {
        "colab": {
          "base_uri": "https://localhost:8080/"
        },
        "id": "jHWvjTc-4KmY",
        "outputId": "b0c88c94-ae61-4abc-9cd7-aa37836b05db"
      },
      "execution_count": 30,
      "outputs": [
        {
          "output_type": "execute_result",
          "data": {
            "text/plain": [
              "array([[1, 2, 3, 4, 5, 6, 7, 8],\n",
              "       [6, 5, 2, 3, 1, 9, 0, 8]])"
            ]
          },
          "metadata": {},
          "execution_count": 30
        }
      ]
    },
    {
      "cell_type": "code",
      "source": [
        "arr[:,2:]"
      ],
      "metadata": {
        "colab": {
          "base_uri": "https://localhost:8080/"
        },
        "id": "6GaImEuW4OaD",
        "outputId": "32cd16dc-2647-4508-998f-c1d9acad1612"
      },
      "execution_count": 31,
      "outputs": [
        {
          "output_type": "execute_result",
          "data": {
            "text/plain": [
              "array([[ 3,  4,  5,  6,  7,  8],\n",
              "       [ 2,  3,  1,  9,  0,  8],\n",
              "       [ 5,  7,  6, 15,  7, 16]])"
            ]
          },
          "metadata": {},
          "execution_count": 31
        }
      ]
    },
    {
      "cell_type": "code",
      "source": [
        "arr[0:2,0:2]"
      ],
      "metadata": {
        "colab": {
          "base_uri": "https://localhost:8080/"
        },
        "id": "XJeK6BNn4TVy",
        "outputId": "447cc5bd-577c-4858-dfa7-3dd91b1b7978"
      },
      "execution_count": 32,
      "outputs": [
        {
          "output_type": "execute_result",
          "data": {
            "text/plain": [
              "array([[1, 2],\n",
              "       [6, 5]])"
            ]
          },
          "metadata": {},
          "execution_count": 32
        }
      ]
    },
    {
      "cell_type": "code",
      "source": [
        "arr[1:,3:]"
      ],
      "metadata": {
        "colab": {
          "base_uri": "https://localhost:8080/"
        },
        "id": "edP6dO0U4WSj",
        "outputId": "ef18a167-cac5-4a3a-9169-bd4f20699ef0"
      },
      "execution_count": 33,
      "outputs": [
        {
          "output_type": "execute_result",
          "data": {
            "text/plain": [
              "array([[ 3,  1,  9,  0,  8],\n",
              "       [ 7,  6, 15,  7, 16]])"
            ]
          },
          "metadata": {},
          "execution_count": 33
        }
      ]
    },
    {
      "cell_type": "code",
      "source": [
        "#Inbuilt functions in Numpy:\n",
        "arr = np.arange(7,20) #creates 1-D array of this range"
      ],
      "metadata": {
        "id": "vhZIvd7R4YoE"
      },
      "execution_count": 38,
      "outputs": []
    },
    {
      "cell_type": "code",
      "source": [
        "arr"
      ],
      "metadata": {
        "colab": {
          "base_uri": "https://localhost:8080/"
        },
        "id": "LpiFE02w4joF",
        "outputId": "ba5ba719-0ed2-4ef0-f774-cd13325de2eb"
      },
      "execution_count": 39,
      "outputs": [
        {
          "output_type": "execute_result",
          "data": {
            "text/plain": [
              "array([ 7,  8,  9, 10, 11, 12, 13, 14, 15, 16, 17, 18, 19])"
            ]
          },
          "metadata": {},
          "execution_count": 39
        }
      ]
    },
    {
      "cell_type": "code",
      "source": [
        "arr = np.arange(8, 50, step=3) #with gap of 3 b/w each elements"
      ],
      "metadata": {
        "id": "Ubf44NNE4kG-"
      },
      "execution_count": 40,
      "outputs": []
    },
    {
      "cell_type": "code",
      "source": [
        "arr"
      ],
      "metadata": {
        "colab": {
          "base_uri": "https://localhost:8080/"
        },
        "id": "xBh3Dw934yhq",
        "outputId": "2152f242-96da-4069-8972-7ca73f6c787b"
      },
      "execution_count": 41,
      "outputs": [
        {
          "output_type": "execute_result",
          "data": {
            "text/plain": [
              "array([ 8, 11, 14, 17, 20, 23, 26, 29, 32, 35, 38, 41, 44, 47])"
            ]
          },
          "metadata": {},
          "execution_count": 41
        }
      ]
    },
    {
      "cell_type": "code",
      "source": [
        "k= np.linspace(1, 20, 100) #start, stop, no.of points"
      ],
      "metadata": {
        "id": "oqfx7NWC4zFT"
      },
      "execution_count": 43,
      "outputs": []
    },
    {
      "cell_type": "code",
      "source": [
        "k"
      ],
      "metadata": {
        "colab": {
          "base_uri": "https://localhost:8080/"
        },
        "id": "bPo9LKiN4-Zz",
        "outputId": "c0a8104f-ab62-43a2-b3f1-6a430658c209"
      },
      "execution_count": 44,
      "outputs": [
        {
          "output_type": "execute_result",
          "data": {
            "text/plain": [
              "array([ 1.        ,  1.19191919,  1.38383838,  1.57575758,  1.76767677,\n",
              "        1.95959596,  2.15151515,  2.34343434,  2.53535354,  2.72727273,\n",
              "        2.91919192,  3.11111111,  3.3030303 ,  3.49494949,  3.68686869,\n",
              "        3.87878788,  4.07070707,  4.26262626,  4.45454545,  4.64646465,\n",
              "        4.83838384,  5.03030303,  5.22222222,  5.41414141,  5.60606061,\n",
              "        5.7979798 ,  5.98989899,  6.18181818,  6.37373737,  6.56565657,\n",
              "        6.75757576,  6.94949495,  7.14141414,  7.33333333,  7.52525253,\n",
              "        7.71717172,  7.90909091,  8.1010101 ,  8.29292929,  8.48484848,\n",
              "        8.67676768,  8.86868687,  9.06060606,  9.25252525,  9.44444444,\n",
              "        9.63636364,  9.82828283, 10.02020202, 10.21212121, 10.4040404 ,\n",
              "       10.5959596 , 10.78787879, 10.97979798, 11.17171717, 11.36363636,\n",
              "       11.55555556, 11.74747475, 11.93939394, 12.13131313, 12.32323232,\n",
              "       12.51515152, 12.70707071, 12.8989899 , 13.09090909, 13.28282828,\n",
              "       13.47474747, 13.66666667, 13.85858586, 14.05050505, 14.24242424,\n",
              "       14.43434343, 14.62626263, 14.81818182, 15.01010101, 15.2020202 ,\n",
              "       15.39393939, 15.58585859, 15.77777778, 15.96969697, 16.16161616,\n",
              "       16.35353535, 16.54545455, 16.73737374, 16.92929293, 17.12121212,\n",
              "       17.31313131, 17.50505051, 17.6969697 , 17.88888889, 18.08080808,\n",
              "       18.27272727, 18.46464646, 18.65656566, 18.84848485, 19.04040404,\n",
              "       19.23232323, 19.42424242, 19.61616162, 19.80808081, 20.        ])"
            ]
          },
          "metadata": {},
          "execution_count": 44
        }
      ]
    },
    {
      "cell_type": "markdown",
      "source": [
        "#### Copy functions:"
      ],
      "metadata": {
        "id": "UWT_nMGZ5CrR"
      }
    },
    {
      "cell_type": "code",
      "source": [
        "arr = np.array([my_list1,my_list2, my_list3])"
      ],
      "metadata": {
        "id": "A0peVzFj5Auk"
      },
      "execution_count": 45,
      "outputs": []
    },
    {
      "cell_type": "code",
      "source": [
        "arr"
      ],
      "metadata": {
        "colab": {
          "base_uri": "https://localhost:8080/"
        },
        "id": "8qGWpmgc5LeN",
        "outputId": "e6610258-8d84-44c6-c175-133c5787820d"
      },
      "execution_count": 46,
      "outputs": [
        {
          "output_type": "execute_result",
          "data": {
            "text/plain": [
              "array([[ 1,  2,  3,  4,  5,  6,  7,  8],\n",
              "       [ 6,  5,  2,  3,  1,  9,  0,  8],\n",
              "       [ 7,  7,  5,  7,  6, 15,  7, 16]])"
            ]
          },
          "metadata": {},
          "execution_count": 46
        }
      ]
    },
    {
      "cell_type": "code",
      "source": [
        "arr[2:] = 100 #broadcasting"
      ],
      "metadata": {
        "id": "1jqfEhyP5MBE"
      },
      "execution_count": 58,
      "outputs": []
    },
    {
      "cell_type": "code",
      "source": [
        "arr"
      ],
      "metadata": {
        "colab": {
          "base_uri": "https://localhost:8080/"
        },
        "id": "4P79gqwm7_7R",
        "outputId": "cdb76366-2acc-41a0-c2b0-4609e4e7a6f5"
      },
      "execution_count": 59,
      "outputs": [
        {
          "output_type": "execute_result",
          "data": {
            "text/plain": [
              "array([[  1,   2,   3,   4,   5,   6,   7,   8],\n",
              "       [  6,   5,   2,   3,   1,   9,   0,   8],\n",
              "       [100, 100, 100, 100, 100, 100, 100, 100]])"
            ]
          },
          "metadata": {},
          "execution_count": 59
        }
      ]
    },
    {
      "cell_type": "code",
      "source": [
        "arr1 = arr"
      ],
      "metadata": {
        "id": "kkoHkVyg8AaI"
      },
      "execution_count": 60,
      "outputs": []
    },
    {
      "cell_type": "code",
      "source": [
        "arr1"
      ],
      "metadata": {
        "colab": {
          "base_uri": "https://localhost:8080/"
        },
        "id": "MtTKLAgQ8FU4",
        "outputId": "3d06fb41-e055-4cd5-f19a-2edb5302e68c"
      },
      "execution_count": 61,
      "outputs": [
        {
          "output_type": "execute_result",
          "data": {
            "text/plain": [
              "array([[  1,   2,   3,   4,   5,   6,   7,   8],\n",
              "       [  6,   5,   2,   3,   1,   9,   0,   8],\n",
              "       [100, 100, 100, 100, 100, 100, 100, 100]])"
            ]
          },
          "metadata": {},
          "execution_count": 61
        }
      ]
    },
    {
      "cell_type": "code",
      "source": [
        "arr1[2:] = 500"
      ],
      "metadata": {
        "id": "4jsLw9MM8Fzy"
      },
      "execution_count": 62,
      "outputs": []
    },
    {
      "cell_type": "code",
      "source": [
        "arr1"
      ],
      "metadata": {
        "colab": {
          "base_uri": "https://localhost:8080/"
        },
        "id": "FM9U4e2Y8Iqq",
        "outputId": "e0c28368-870d-4305-a9ef-fad754833ef8"
      },
      "execution_count": 63,
      "outputs": [
        {
          "output_type": "execute_result",
          "data": {
            "text/plain": [
              "array([[  1,   2,   3,   4,   5,   6,   7,   8],\n",
              "       [  6,   5,   2,   3,   1,   9,   0,   8],\n",
              "       [500, 500, 500, 500, 500, 500, 500, 500]])"
            ]
          },
          "metadata": {},
          "execution_count": 63
        }
      ]
    },
    {
      "cell_type": "code",
      "source": [
        "arr # changing one will change other too"
      ],
      "metadata": {
        "colab": {
          "base_uri": "https://localhost:8080/"
        },
        "id": "9nCfh5up8JKn",
        "outputId": "f2b3497f-779b-4016-d24a-aeb04d48f0c9"
      },
      "execution_count": 64,
      "outputs": [
        {
          "output_type": "execute_result",
          "data": {
            "text/plain": [
              "array([[  1,   2,   3,   4,   5,   6,   7,   8],\n",
              "       [  6,   5,   2,   3,   1,   9,   0,   8],\n",
              "       [500, 500, 500, 500, 500, 500, 500, 500]])"
            ]
          },
          "metadata": {},
          "execution_count": 64
        }
      ]
    },
    {
      "cell_type": "code",
      "source": [
        "#as array is reference type.\n",
        "arr1 = arr.copy()\n",
        "arr\n"
      ],
      "metadata": {
        "colab": {
          "base_uri": "https://localhost:8080/"
        },
        "id": "_v2tJ5P48M6F",
        "outputId": "00a54a49-dbc5-4f36-9084-bb0c6f16e5e0"
      },
      "execution_count": 65,
      "outputs": [
        {
          "output_type": "execute_result",
          "data": {
            "text/plain": [
              "array([[  1,   2,   3,   4,   5,   6,   7,   8],\n",
              "       [  6,   5,   2,   3,   1,   9,   0,   8],\n",
              "       [500, 500, 500, 500, 500, 500, 500, 500]])"
            ]
          },
          "metadata": {},
          "execution_count": 65
        }
      ]
    },
    {
      "cell_type": "code",
      "source": [
        "arr1"
      ],
      "metadata": {
        "colab": {
          "base_uri": "https://localhost:8080/"
        },
        "id": "L4PT5e6I8kFL",
        "outputId": "e15cf739-72cf-41da-d512-682f8bfe60bd"
      },
      "execution_count": 66,
      "outputs": [
        {
          "output_type": "execute_result",
          "data": {
            "text/plain": [
              "array([[  1,   2,   3,   4,   5,   6,   7,   8],\n",
              "       [  6,   5,   2,   3,   1,   9,   0,   8],\n",
              "       [500, 500, 500, 500, 500, 500, 500, 500]])"
            ]
          },
          "metadata": {},
          "execution_count": 66
        }
      ]
    },
    {
      "cell_type": "code",
      "source": [
        "arr1[2:] = 1000"
      ],
      "metadata": {
        "id": "6xgnVDBq8knm"
      },
      "execution_count": 69,
      "outputs": []
    },
    {
      "cell_type": "code",
      "source": [
        "arr1"
      ],
      "metadata": {
        "colab": {
          "base_uri": "https://localhost:8080/"
        },
        "id": "EKO2dNmm8nsI",
        "outputId": "12f0c8b8-d5b4-45f6-c7f7-ad6bf040e8c8"
      },
      "execution_count": 70,
      "outputs": [
        {
          "output_type": "execute_result",
          "data": {
            "text/plain": [
              "array([[   1,    2,    3,    4,    5,    6,    7,    8],\n",
              "       [   6,    5,    2,    3,    1,    9,    0,    8],\n",
              "       [1000, 1000, 1000, 1000, 1000, 1000, 1000, 1000]])"
            ]
          },
          "metadata": {},
          "execution_count": 70
        }
      ]
    },
    {
      "cell_type": "code",
      "source": [
        "arr"
      ],
      "metadata": {
        "colab": {
          "base_uri": "https://localhost:8080/"
        },
        "id": "Tass_KIx8oWq",
        "outputId": "1d5f4560-9169-4481-8451-200fb9f273fc"
      },
      "execution_count": 71,
      "outputs": [
        {
          "output_type": "execute_result",
          "data": {
            "text/plain": [
              "array([[  1,   2,   3,   4,   5,   6,   7,   8],\n",
              "       [  6,   5,   2,   3,   1,   9,   0,   8],\n",
              "       [500, 500, 500, 500, 500, 500, 500, 500]])"
            ]
          },
          "metadata": {},
          "execution_count": 71
        }
      ]
    },
    {
      "cell_type": "markdown",
      "source": [
        "#### Operations in NUMPY"
      ],
      "metadata": {
        "id": "NcFg4LqP8r5Z"
      }
    },
    {
      "cell_type": "code",
      "source": [
        "val = 2\n",
        "arr < 2"
      ],
      "metadata": {
        "colab": {
          "base_uri": "https://localhost:8080/"
        },
        "id": "rMgCu-hg8qNk",
        "outputId": "c71cdd4e-136c-4a7e-99f9-8fbefad784ae"
      },
      "execution_count": 72,
      "outputs": [
        {
          "output_type": "execute_result",
          "data": {
            "text/plain": [
              "array([[ True, False, False, False, False, False, False, False],\n",
              "       [False, False, False, False,  True, False,  True, False],\n",
              "       [False, False, False, False, False, False, False, False]])"
            ]
          },
          "metadata": {},
          "execution_count": 72
        }
      ]
    },
    {
      "cell_type": "code",
      "source": [
        "arr*2"
      ],
      "metadata": {
        "colab": {
          "base_uri": "https://localhost:8080/"
        },
        "id": "Y4uf9ZLs8y2M",
        "outputId": "8c05556c-4298-40fe-9020-95a5989f0923"
      },
      "execution_count": 73,
      "outputs": [
        {
          "output_type": "execute_result",
          "data": {
            "text/plain": [
              "array([[   2,    4,    6,    8,   10,   12,   14,   16],\n",
              "       [  12,   10,    4,    6,    2,   18,    0,   16],\n",
              "       [1000, 1000, 1000, 1000, 1000, 1000, 1000, 1000]])"
            ]
          },
          "metadata": {},
          "execution_count": 73
        }
      ]
    },
    {
      "cell_type": "code",
      "source": [
        "arr/2"
      ],
      "metadata": {
        "colab": {
          "base_uri": "https://localhost:8080/"
        },
        "id": "aJ5AGQgk820m",
        "outputId": "18557ae3-93f8-4999-8acf-68f0d47334db"
      },
      "execution_count": 74,
      "outputs": [
        {
          "output_type": "execute_result",
          "data": {
            "text/plain": [
              "array([[  0.5,   1. ,   1.5,   2. ,   2.5,   3. ,   3.5,   4. ],\n",
              "       [  3. ,   2.5,   1. ,   1.5,   0.5,   4.5,   0. ,   4. ],\n",
              "       [250. , 250. , 250. , 250. , 250. , 250. , 250. , 250. ]])"
            ]
          },
          "metadata": {},
          "execution_count": 74
        }
      ]
    },
    {
      "cell_type": "code",
      "source": [
        "arr%2"
      ],
      "metadata": {
        "colab": {
          "base_uri": "https://localhost:8080/"
        },
        "id": "xkopkOVI86K4",
        "outputId": "e15223bf-8007-46ab-fc14-eb36d987101c"
      },
      "execution_count": 75,
      "outputs": [
        {
          "output_type": "execute_result",
          "data": {
            "text/plain": [
              "array([[1, 0, 1, 0, 1, 0, 1, 0],\n",
              "       [0, 1, 0, 1, 1, 1, 0, 0],\n",
              "       [0, 0, 0, 0, 0, 0, 0, 0]])"
            ]
          },
          "metadata": {},
          "execution_count": 75
        }
      ]
    },
    {
      "cell_type": "code",
      "source": [
        "#To get elements or conditions for array:\n",
        "arr[arr<2]"
      ],
      "metadata": {
        "colab": {
          "base_uri": "https://localhost:8080/"
        },
        "id": "YUUAZaUk87cy",
        "outputId": "cadc89d6-afd5-41c2-f90a-d99732ad8216"
      },
      "execution_count": 76,
      "outputs": [
        {
          "output_type": "execute_result",
          "data": {
            "text/plain": [
              "array([1, 1, 0])"
            ]
          },
          "metadata": {},
          "execution_count": 76
        }
      ]
    },
    {
      "cell_type": "code",
      "source": [
        "arr[arr<500]"
      ],
      "metadata": {
        "colab": {
          "base_uri": "https://localhost:8080/"
        },
        "id": "IeL7u_8X9Cy9",
        "outputId": "af871eab-8437-421a-900e-fa1c4142fdfd"
      },
      "execution_count": 77,
      "outputs": [
        {
          "output_type": "execute_result",
          "data": {
            "text/plain": [
              "array([1, 2, 3, 4, 5, 6, 7, 8, 6, 5, 2, 3, 1, 9, 0, 8])"
            ]
          },
          "metadata": {},
          "execution_count": 77
        }
      ]
    },
    {
      "cell_type": "markdown",
      "source": [
        "#### Creating arrays:"
      ],
      "metadata": {
        "id": "FoaESJUI9IXF"
      }
    },
    {
      "cell_type": "code",
      "source": [
        "np.ones(6)"
      ],
      "metadata": {
        "colab": {
          "base_uri": "https://localhost:8080/"
        },
        "id": "rMfZTxZS9F3D",
        "outputId": "896f58b3-f1d5-4993-f8dd-99a32d38b668"
      },
      "execution_count": 78,
      "outputs": [
        {
          "output_type": "execute_result",
          "data": {
            "text/plain": [
              "array([1., 1., 1., 1., 1., 1.])"
            ]
          },
          "metadata": {},
          "execution_count": 78
        }
      ]
    },
    {
      "cell_type": "code",
      "source": [
        "np.ones(10, dtype=int)"
      ],
      "metadata": {
        "colab": {
          "base_uri": "https://localhost:8080/"
        },
        "id": "M-nhNWvp9PCK",
        "outputId": "bd33b548-8ed7-41a7-cf1a-b43f860cc5f7"
      },
      "execution_count": 79,
      "outputs": [
        {
          "output_type": "execute_result",
          "data": {
            "text/plain": [
              "array([1, 1, 1, 1, 1, 1, 1, 1, 1, 1])"
            ]
          },
          "metadata": {},
          "execution_count": 79
        }
      ]
    },
    {
      "cell_type": "code",
      "source": [
        "np.ones((8,10),dtype=float)"
      ],
      "metadata": {
        "colab": {
          "base_uri": "https://localhost:8080/"
        },
        "id": "IkI9BuSp9fF7",
        "outputId": "36c9c65f-e93b-48e5-98b1-feab7d41bf8b"
      },
      "execution_count": 80,
      "outputs": [
        {
          "output_type": "execute_result",
          "data": {
            "text/plain": [
              "array([[1., 1., 1., 1., 1., 1., 1., 1., 1., 1.],\n",
              "       [1., 1., 1., 1., 1., 1., 1., 1., 1., 1.],\n",
              "       [1., 1., 1., 1., 1., 1., 1., 1., 1., 1.],\n",
              "       [1., 1., 1., 1., 1., 1., 1., 1., 1., 1.],\n",
              "       [1., 1., 1., 1., 1., 1., 1., 1., 1., 1.],\n",
              "       [1., 1., 1., 1., 1., 1., 1., 1., 1., 1.],\n",
              "       [1., 1., 1., 1., 1., 1., 1., 1., 1., 1.],\n",
              "       [1., 1., 1., 1., 1., 1., 1., 1., 1., 1.]])"
            ]
          },
          "metadata": {},
          "execution_count": 80
        }
      ]
    },
    {
      "cell_type": "markdown",
      "source": [
        "#### Random Distribution:"
      ],
      "metadata": {
        "id": "A_sZUQwT9mVV"
      }
    },
    {
      "cell_type": "code",
      "source": [
        "np.random.rand(3,3) #0-1"
      ],
      "metadata": {
        "colab": {
          "base_uri": "https://localhost:8080/"
        },
        "id": "fHxfLPTP9j1O",
        "outputId": "2e8984e0-e970-4705-f1a6-bad8ed7fb2c8"
      },
      "execution_count": 81,
      "outputs": [
        {
          "output_type": "execute_result",
          "data": {
            "text/plain": [
              "array([[0.35729593, 0.02939954, 0.56948561],\n",
              "       [0.37857316, 0.85217655, 0.23011083],\n",
              "       [0.96020477, 0.80829791, 0.80479209]])"
            ]
          },
          "metadata": {},
          "execution_count": 81
        }
      ]
    },
    {
      "cell_type": "code",
      "source": [
        "np.random.randn(4,4)"
      ],
      "metadata": {
        "colab": {
          "base_uri": "https://localhost:8080/"
        },
        "id": "mMiJ_VLJ928d",
        "outputId": "71e52292-748f-438f-ca7c-162355779cf2"
      },
      "execution_count": 82,
      "outputs": [
        {
          "output_type": "execute_result",
          "data": {
            "text/plain": [
              "array([[-0.52872824,  0.10108628, -0.29774435,  0.40773849],\n",
              "       [-0.26700869,  0.45685622,  0.01801485,  1.25047787],\n",
              "       [-0.03628801,  1.90143299, -0.8870574 ,  1.49540376],\n",
              "       [ 0.10400877,  0.02294878,  1.75656771,  0.61370936]])"
            ]
          },
          "metadata": {},
          "execution_count": 82
        }
      ]
    },
    {
      "cell_type": "code",
      "source": [
        "np.random.randint(0,100,12).reshape(4,3)"
      ],
      "metadata": {
        "colab": {
          "base_uri": "https://localhost:8080/"
        },
        "id": "oOOG4qhO98kR",
        "outputId": "0531933c-34a9-4b59-a046-adea8df50f7a"
      },
      "execution_count": 89,
      "outputs": [
        {
          "output_type": "execute_result",
          "data": {
            "text/plain": [
              "array([[35, 68, 92],\n",
              "       [83, 55, 15],\n",
              "       [24, 37, 22],\n",
              "       [57, 70, 78]])"
            ]
          },
          "metadata": {},
          "execution_count": 89
        }
      ]
    },
    {
      "cell_type": "code",
      "source": [
        "np.random.random_sample((6,9))"
      ],
      "metadata": {
        "colab": {
          "base_uri": "https://localhost:8080/"
        },
        "id": "RaCmi_ak-Dlp",
        "outputId": "37cb8a97-95a7-40e1-cc28-d4da79cdb405"
      },
      "execution_count": 91,
      "outputs": [
        {
          "output_type": "execute_result",
          "data": {
            "text/plain": [
              "array([[0.36405626, 0.42267463, 0.19354778, 0.41916749, 0.3197077 ,\n",
              "        0.48647152, 0.65805946, 0.77636688, 0.62060142],\n",
              "       [0.15445483, 0.64928573, 0.64902622, 0.87549057, 0.5734636 ,\n",
              "        0.2988745 , 0.65191365, 0.73327075, 0.7113618 ],\n",
              "       [0.00499044, 0.08582632, 0.05722453, 0.49661549, 0.76132334,\n",
              "        0.93050119, 0.02079399, 0.28724743, 0.77874742],\n",
              "       [0.27966046, 0.8468409 , 0.31748485, 0.74864495, 0.23404772,\n",
              "        0.67103692, 0.37166752, 0.99045057, 0.4383064 ],\n",
              "       [0.31286393, 0.59918307, 0.38566972, 0.07017409, 0.24426882,\n",
              "        0.70120476, 0.61771789, 0.30678178, 0.82276986],\n",
              "       [0.97526902, 0.4048246 , 0.58291783, 0.45954749, 0.17099071,\n",
              "        0.92806533, 0.77787235, 0.29819756, 0.15394338]])"
            ]
          },
          "metadata": {},
          "execution_count": 91
        }
      ]
    },
    {
      "cell_type": "code",
      "source": [],
      "metadata": {
        "id": "HcNgzAR--03O"
      },
      "execution_count": null,
      "outputs": []
    }
  ]
}